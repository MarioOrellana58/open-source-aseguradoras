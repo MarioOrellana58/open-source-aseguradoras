{
 "metadata": {
  "name": "",
  "signature": "sha256:62be22764372c5cd3bcb98b8a6117215f5adf929706d719566c2be5493ddcc06"
 },
 "nbformat": 3,
 "nbformat_minor": 0,
 "worksheets": [
  {
   "cells": [
    {
     "cell_type": "heading",
     "level": 2,
     "metadata": {},
     "source": [
      "Anexo . Salida detallada del script C\u00e1lculo PNNx con vectores (Pandas)"
     ]
    },
    {
     "cell_type": "heading",
     "level": 4,
     "metadata": {},
     "source": [
      "Se lee el archivo de texto separado por comas con la informaci\u00f3n de las p\u00f3lizas"
     ]
    },
    {
     "cell_type": "code",
     "collapsed": false,
     "input": [
      "# -*- coding: utf-8 -*-\n",
      "import pandas as pd\n",
      "import numpy as np\n",
      "\n",
      "polizas = pd.read_csv('polizas.csv')\n",
      "polizas = polizas.set_index('num_poliza')\n",
      "print polizas.keys()\n",
      "print polizas.head()"
     ],
     "language": "python",
     "metadata": {},
     "outputs": [
      {
       "output_type": "stream",
       "stream": "stdout",
       "text": [
        "Index([u'plazo', u'edad', u'suma_asegurada'], dtype='object')\n",
        "            plazo  edad  suma_asegurada\n",
        "num_poliza                             \n",
        "1              10    57           22746\n",
        "2               5    40           20155\n",
        "3              10    53           68731\n",
        "4              10    54           18060\n",
        "5               1    15           44759\n"
       ]
      }
     ],
     "prompt_number": 2
    },
    {
     "cell_type": "heading",
     "level": 4,
     "metadata": {},
     "source": [
      "Se construye la tabla de mortalidad con base en un archivo de texto separado por comas que contiene s\u00f3lo qx, lo demas se calcula"
     ]
    },
    {
     "cell_type": "code",
     "collapsed": false,
     "input": [
      "mortalidad = pd.read_csv('tabla_mortalidad.csv')\n",
      "mortalidad = mortalidad.set_index('edad')\n",
      "mortalidad['px'] = 1 - mortalidad['qx']\n",
      "mortalidad['pxqx'] = mortalidad['px'] * mortalidad['qx']\n",
      "print mortalidad.head()"
     ],
     "language": "python",
     "metadata": {},
     "outputs": [
      {
       "output_type": "stream",
       "stream": "stdout",
       "text": [
        "            qx        px      pxqx\n",
        "edad                              \n",
        "12    0.000368  0.999632  0.000368\n",
        "13    0.000403  0.999597  0.000403\n",
        "14    0.000432  0.999568  0.000432\n",
        "15    0.000461  0.999539  0.000461\n",
        "16    0.000490  0.999510  0.000490\n"
       ]
      }
     ],
     "prompt_number": 3
    },
    {
     "cell_type": "heading",
     "level": 4,
     "metadata": {},
     "source": [
      "Se construye la tabla con vigores "
     ]
    },
    {
     "cell_type": "code",
     "collapsed": false,
     "input": [
      "i = 0.05\n",
      "n = polizas['plazo'].max() + 1\n",
      "vt = pd.DataFrame({'vt': range(0, n), 't': range(0, n)}, dtype='float')\n",
      "def Vt(vt):\n",
      "    vt['vt'] = pow(i+1, -vt['t'])\n",
      "    return vt\n",
      "vt.apply(Vt, axis=1)\n",
      "vt['vt+1'] = vt['vt'].shift(-1)\n",
      "print vt.head()"
     ],
     "language": "python",
     "metadata": {},
     "outputs": [
      {
       "output_type": "stream",
       "stream": "stdout",
       "text": [
        "   t        vt      vt+1\n",
        "0  0  1.000000  0.952381\n",
        "1  1  0.952381  0.907029\n",
        "2  2  0.907029  0.863838\n",
        "3  3  0.863838  0.822702\n",
        "4  4  0.822702  0.783526\n"
       ]
      }
     ],
     "prompt_number": 4
    },
    {
     "cell_type": "heading",
     "level": 4,
     "metadata": {},
     "source": [
      "Se obtiene la edad minima, la maxima, y el plazo maximo para construir la tabla"
     ]
    },
    {
     "cell_type": "code",
     "collapsed": false,
     "input": [
      "print sorted(polizas['edad'].unique())\n",
      "print polizas['edad'].max()\n",
      "print polizas['edad'].min()\n",
      "\n",
      "print sorted(polizas['plazo'].unique())\n",
      "print polizas['plazo'].max()\n",
      "print polizas['plazo'].min()"
     ],
     "language": "python",
     "metadata": {},
     "outputs": [
      {
       "output_type": "stream",
       "stream": "stdout",
       "text": [
        "[15, 19, 30, 40, 53, 54, 55, 57, 59]\n",
        "59\n",
        "15\n",
        "[1, 5, 10, 15]\n",
        "15\n",
        "1\n"
       ]
      }
     ],
     "prompt_number": 5
    },
    {
     "cell_type": "heading",
     "level": 4,
     "metadata": {},
     "source": [
      "Se construye la tabla con los productos para el numerador"
     ]
    },
    {
     "cell_type": "code",
     "collapsed": false,
     "input": [
      "import copy\n",
      "\n",
      "edades = sorted(polizas['edad'].unique())\n",
      "\n",
      "numerador = pd.DataFrame({'x': edades}, dtype='float')\n",
      "for t in range(0, polizas['plazo'].max()):\n",
      "    numerador[t] = t\n",
      "    numerador[t] = numerador[t].astype('float')\n",
      "denominador = copy.deepcopy(numerador)\n",
      "\n",
      "def multiplica_num(numerador):\n",
      "    x = numerador['x'].astype('int32')\n",
      "    for t in numerador[1:]:\n",
      "        t = int(t)\n",
      "        if(t == 0):\n",
      "            numerador[t] = vt['vt'].iloc[t] \n",
      "        else:\n",
      "            numerador[t] = vt['vt'].iloc[t] * mortalidad['pxqx'].iloc[x + t]\n",
      "    return numerador\n",
      "numerador = numerador.apply(multiplica_num, axis=1)\n",
      "\n",
      "print numerador.head()"
     ],
     "language": "python",
     "metadata": {},
     "outputs": [
      {
       "output_type": "stream",
       "stream": "stdout",
       "text": [
        "    x  0         1         2         3         4         5         6  \\\n",
        "0  15  1  0.001045  0.001020  0.000983  0.000938  0.000895  0.000852   \n",
        "1  19  1  0.001087  0.001036  0.000987  0.000941  0.000897  0.000872   \n",
        "2  30  1  0.001545  0.001580  0.001620  0.001665  0.001714  0.001768   \n",
        "3  40  1  0.003517  0.003695  0.003891  0.004105  0.004336  0.004583   \n",
        "4  53  1  0.012331  0.012637  0.012896  0.013181  0.013570  0.014123   \n",
        "\n",
        "          7         8         9        10        11        12        13  \\\n",
        "0  0.000812  0.000774  0.000738  0.000717  0.000707  0.000704  0.000708   \n",
        "1  0.000859  0.000856  0.000861  0.000871  0.000886  0.000903  0.000924   \n",
        "2  0.001828  0.001897  0.001974  0.002061  0.002159  0.002269  0.002389   \n",
        "3  0.004840  0.005104  0.005369  0.005630  0.005886  0.006126  0.006346   \n",
        "4  0.014882  0.015868  0.017027  0.018299  0.019633  0.020986  0.022519   \n",
        "\n",
        "         14  \n",
        "0  0.000717  \n",
        "1  0.000947  \n",
        "2  0.002520  \n",
        "3  0.006540  \n",
        "4  0.023877  \n"
       ]
      }
     ],
     "prompt_number": 6
    },
    {
     "cell_type": "heading",
     "level": 4,
     "metadata": {},
     "source": [
      "Se construye la tabla con los productos para el denominador"
     ]
    },
    {
     "cell_type": "code",
     "collapsed": false,
     "input": [
      "def multiplica_den(denominador):\n",
      "    x = denominador['x'].astype('int32')\n",
      "    for t in denominador[1:]:\n",
      "        t = int(t)\n",
      "        if(t == 0):\n",
      "            denominador[t] = mortalidad['pxqx'].iloc[x]\n",
      "        else:\n",
      "            fact_mort = mortalidad['pxqx'].iloc[x + t]\n",
      "            denominador[t] = vt['vt+1'].iloc[t] * fact_mort\n",
      "    return denominador\n",
      "denominador = denominador.apply(multiplica_den, axis=1)\n",
      "\n",
      "print denominador.head()"
     ],
     "language": "python",
     "metadata": {},
     "outputs": [
      {
       "output_type": "stream",
       "stream": "stdout",
       "text": [
        "    x         0         1         2         3         4         5         6  \\\n",
        "0  15  0.001052  0.000995  0.000972  0.000936  0.000894  0.000852  0.000811   \n",
        "1  19  0.001141  0.001036  0.000986  0.000940  0.000896  0.000854  0.000831   \n",
        "2  30  0.001515  0.001472  0.001505  0.001543  0.001586  0.001632  0.001684   \n",
        "3  40  0.003358  0.003350  0.003520  0.003706  0.003910  0.004130  0.004365   \n",
        "4  53  0.011967  0.011744  0.012035  0.012281  0.012553  0.012924  0.013450   \n",
        "\n",
        "          7         8         9        10        11        12        13  \\\n",
        "0  0.000773  0.000737  0.000703  0.000683  0.000673  0.000671  0.000674   \n",
        "1  0.000818  0.000815  0.000820  0.000830  0.000843  0.000860  0.000880   \n",
        "2  0.001741  0.001806  0.001880  0.001963  0.002057  0.002161  0.002275   \n",
        "3  0.004610  0.004861  0.005113  0.005362  0.005605  0.005835  0.006044   \n",
        "4  0.014174  0.015112  0.016216  0.017428  0.018698  0.019986  0.021447   \n",
        "\n",
        "         14  \n",
        "0  0.000683  \n",
        "1  0.000902  \n",
        "2  0.002400  \n",
        "3  0.006228  \n",
        "4  0.022740  \n"
       ]
      }
     ],
     "prompt_number": 8
    },
    {
     "cell_type": "code",
     "collapsed": false,
     "input": [],
     "language": "python",
     "metadata": {},
     "outputs": []
    }
   ],
   "metadata": {}
  }
 ]
}