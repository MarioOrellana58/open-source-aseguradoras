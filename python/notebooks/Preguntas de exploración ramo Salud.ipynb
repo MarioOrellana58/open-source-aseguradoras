{
 "metadata": {
  "name": "",
  "signature": "sha256:a6132fdf7494ad015a5f1077815052df23c5145a13a3f1ce4151718db6805adb"
 },
 "nbformat": 3,
 "nbformat_minor": 0,
 "worksheets": [
  {
   "cells": [
    {
     "cell_type": "heading",
     "level": 2,
     "metadata": {},
     "source": [
      "Anexo . Salida detallada del script Preguntas de exploraci\u00f3n para el ramo Salud"
     ]
    },
    {
     "cell_type": "heading",
     "level": 4,
     "metadata": {},
     "source": [
      "Se carga el archivo de texto de la CNSF, se muestran los t\u00edtulos de las columas (161) y el numero de registros (50350)"
     ]
    },
    {
     "cell_type": "code",
     "collapsed": false,
     "input": [
      "# -*- coding: utf-8 -*-\n",
      "import pandas as pd\n",
      "import numpy as np\n",
      "\n",
      "siniestros_original = pd.read_csv('Salud2012.csv')\n",
      "siniestros = pd.DataFrame()\n",
      "\n",
      "print siniestros_original.keys()\n",
      "print str(len(siniestros_original.keys())) + ' columnas'\n",
      "print str(len(siniestros_original)) + ' registros'"
     ],
     "language": "python",
     "metadata": {},
     "outputs": [
      {
       "output_type": "stream",
       "stream": "stdout",
       "text": [
        "Index([u'EDAD', u'SEXO', u'GPO_FAM', u'LUG_RESIDE', u'TIP_SEGURO', u'DIAGNOST1', u'CNT', u'PRIMA_EMI', u'DIAS_ES_H1', u'DIAS_ES_H2', u'DIAS_ES_H3', u'NUM_OT_EH', u'NC_PRI_D1', u'NC_PRI_D2', u'NC_PRI_D3', u'NC_PRI_D4', u'NC_PRI_D5', u'NC_PRI_D6', u'NC_PRI_D7', u'NC_PRI_D8', u'NC_PRI_D9', u'NC_PRI_D0', u'NC_ESP_D1', u'NC_ESP_D2', u'NC_ESP_D3', u'NC_ESP_D4', u'NC_ESP_D5', u'NC_ESP_D6', u'NC_ESP_D7', u'NC_ESP_D8', u'NC_ESP_D9', u'NC_ESP_D0', u'NEX_LAB_D1', u'NEX_LAB_D2', u'NEX_LAB_D3', u'NEX_LAB_D4', u'NEX_LAB_D5', u'NEX_LAB_D6', u'NEX_LAB_D7', u'NEX_LAB_D8', u'NEX_LAB_D9', u'NEX_LAB_D0', u'NEX_IMG_D1', u'NEX_IMG_D2', u'NEX_IMG_D3', u'NEX_IMG_D4', u'NEX_IMG_D5', u'NEX_IMG_D6', u'NEX_IMG_D7', u'NEX_IMG_D8', u'NEX_IMG_D9', u'NEX_IMG_D0', u'NMED_D1', u'NMED_D2', u'NMED_D3', u'NMED_D4', u'NMED_D5', u'NMED_D6', u'NMED_D7', u'NMED_D8', u'NMED_D9', u'NMED_D0', u'NPRI_CON_O', u'NCON_ESP_O', u'NEX_LAB_OT', u'NEX_IMG_OT', u'NMEDIC_OT', u'NCON_PRE', u'NCON_PUE', u'NSEM_GESAB', u'NPLA_FAM', u'CON_NI_SON', u'N_OTCONS_P', u'NEX_LAB_P', u'NEX_IMG_P', u'N_APRE_SB', u'N_ACUR_SB', u'M_HOS_1', u'M_HOS_2', u'M_HOS_3', u'M_HOS_OT', u'M_HM_1', u'M_HM_2', u'M_HM_3', u'M_HM_OT', u'MC_PRI_D1', u'MC_PRI_D2', u'MC_PRI_D3', u'MC_PRI_D4', u'MC_PRI_D5', u'MC_PRI_D6', u'MC_PRI_D7', u'MC_PRI_D8', u'MC_PRI_D9', u'MC_PRI_D0', u'MC_ESP_D1', u'MC_ESP_D2', u'MC_ESP_D3', u'MC_ESP_D4', u'MC_ESP_D5', ...], dtype='object')\n",
        "161 columnas\n",
        "50350 registros\n"
       ]
      }
     ],
     "prompt_number": 2
    },
    {
     "cell_type": "heading",
     "level": 4,
     "metadata": {},
     "source": [
      "Se crea una copia con las columnas que se utilizan. Se crea una nueva columna con el total de d\u00edas de estancia y del monto de medicamentos porque est\u00e1n dispersos en diversas columnas"
     ]
    },
    {
     "cell_type": "code",
     "collapsed": false,
     "input": [
      "siniestros['EDAD'] = siniestros_original['EDAD']\n",
      "siniestros['SEXO'] = siniestros_original['SEXO']\n",
      "siniestros['DIAGNOST1'] = siniestros_original['DIAGNOST1']\n",
      "for i in range(0,9):\n",
      "    siniestros['MMED_D' + str(i)] = siniestros_original['MMED_D' + str(i)]\n",
      "siniestros['DIAS_ES_H1'] = siniestros_original['DIAS_ES_H1']\n",
      "siniestros['DIAS_ES_H2'] = siniestros_original['DIAS_ES_H2']\n",
      "siniestros['DIAS_ES_H3'] = siniestros_original['DIAS_ES_H3']\n",
      "siniestros['LUG_RESIDE'] = siniestros_original['LUG_RESIDE']\n",
      "siniestros['TOTAL_MM'] = 0\n",
      "for i in range(0,9):\n",
      "    siniestros['TOTAL_MM'] = siniestros['TOTAL_MM'] + siniestros['MMED_D' + str(i)]\n",
      "siniestros['TOTAL_ES_H'] = siniestros['DIAS_ES_H1']\n",
      "siniestros['TOTAL_ES_H'] = siniestros['TOTAL_ES_H'] + siniestros['DIAS_ES_H2']\n",
      "siniestros['TOTAL_ES_H'] = siniestros['TOTAL_ES_H'] +siniestros['DIAS_ES_H3']\n",
      "\n",
      "print siniestros.describe()"
     ],
     "language": "python",
     "metadata": {},
     "outputs": [
      {
       "output_type": "stream",
       "stream": "stdout",
       "text": [
        "               EDAD       MMED_D0        MMED_D1       MMED_D2       MMED_D3  \\\n",
        "count  50350.000000  50350.000000   50350.000000  50350.000000  50350.000000   \n",
        "mean      33.477577      4.697883     252.953828    174.719678    121.779631   \n",
        "std       19.924554     94.462857    1891.225356    851.050677    730.223733   \n",
        "min        0.000000      0.000000       0.000000      0.000000      0.000000   \n",
        "25%       17.000000      0.000000       0.000000      0.000000      0.000000   \n",
        "50%       33.000000      0.000000       0.000000      0.000000      0.000000   \n",
        "75%       48.000000      0.000000       0.000000      0.000000      0.000000   \n",
        "max      106.000000   6888.480000  275301.670000  61276.620000  69221.210000   \n",
        "\n",
        "            MMED_D4       MMED_D5       MMED_D6       MMED_D7       MMED_D8  \\\n",
        "count  50350.000000  50350.000000  50350.000000  50350.000000  50350.000000   \n",
        "mean     100.934102     55.609228     38.956599     26.213241     17.374005   \n",
        "std      735.307161    445.039406    344.738993    299.251357    210.952217   \n",
        "min        0.000000      0.000000      0.000000      0.000000      0.000000   \n",
        "25%        0.000000      0.000000      0.000000      0.000000      0.000000   \n",
        "50%        0.000000      0.000000      0.000000      0.000000      0.000000   \n",
        "75%        0.000000      0.000000      0.000000      0.000000      0.000000   \n",
        "max    81233.100000  27657.260000  15686.850000  18399.630000   9988.840000   \n",
        "\n",
        "         DIAS_ES_H1    DIAS_ES_H2    DIAS_ES_H3    LUG_RESIDE       TOTAL_MM  \\\n",
        "count  50350.000000  50350.000000  50350.000000  50350.000000   50350.000000   \n",
        "mean       0.124687      0.047507      0.022622     14.965005     793.238195   \n",
        "std        0.828632      0.567590      0.290372      8.752486    3321.556969   \n",
        "min        0.000000      0.000000      0.000000      1.000000       0.000000   \n",
        "25%        0.000000      0.000000      0.000000      9.000000       0.000000   \n",
        "50%        0.000000      0.000000      0.000000     14.000000       0.000000   \n",
        "75%        0.000000      0.000000      0.000000     24.000000     159.935000   \n",
        "max       65.000000     61.000000     36.000000     34.000000  275301.670000   \n",
        "\n",
        "         TOTAL_ES_H  \n",
        "count  50350.000000  \n",
        "mean       0.194816  \n",
        "std        1.197046  \n",
        "min        0.000000  \n",
        "25%        0.000000  \n",
        "50%        0.000000  \n",
        "75%        0.000000  \n",
        "max       70.000000  \n"
       ]
      }
     ],
     "prompt_number": 3
    },
    {
     "cell_type": "heading",
     "level": 4,
     "metadata": {},
     "source": [
      "Se crean dos nuevos objetos DataFrame filtrados por sexo, se obtiene el numero de elementos para de ah\u00edi obtener los porcentajes"
     ]
    },
    {
     "cell_type": "code",
     "collapsed": false,
     "input": [
      "siniestros_m = siniestros[siniestros['SEXO']=='M']\n",
      "siniestros_f = siniestros[siniestros['SEXO']=='F']\n",
      "print len(siniestros_m) / float(len(siniestros)) * 100\n",
      "print len(siniestros_f) / float(len(siniestros)) * 100"
     ],
     "language": "python",
     "metadata": {},
     "outputs": [
      {
       "output_type": "stream",
       "stream": "stdout",
       "text": [
        "44.2482621648\n",
        "55.7517378352\n"
       ]
      }
     ],
     "prompt_number": 4
    },
    {
     "cell_type": "heading",
     "level": 4,
     "metadata": {},
     "source": [
      "Se filtran los reclamos del Distrito Federal, se cuentan las ocurrencias"
     ]
    },
    {
     "cell_type": "code",
     "collapsed": false,
     "input": [
      "siniestros_distrito = siniestros[siniestros['LUG_RESIDE'] == 9]\n",
      "siniestros_distrito['OCURRENCIAS'] = None\n",
      "siniestros_distrito = siniestros_distrito.groupby('DIAGNOST1').count()['OCURRENCIAS']\n",
      "print siniestros_distrito.order().tail()"
     ],
     "language": "python",
     "metadata": {},
     "outputs": [
      {
       "output_type": "stream",
       "stream": "stdout",
       "text": [
        "DIAGNOST1\n",
        "J00           268\n",
        "Z71           312\n",
        "Z00           376\n",
        "Z10           405\n",
        "000          1636\n",
        "Name: OCURRENCIAS, dtype: int64\n"
       ]
      }
     ],
     "prompt_number": 17
    },
    {
     "cell_type": "heading",
     "level": 5,
     "metadata": {},
     "source": [
      "Se realiza un JOIN con las descripciones de las enfermedades para un an\u00e1lisis mas sencillo"
     ]
    },
    {
     "cell_type": "code",
     "collapsed": false,
     "input": [
      "enfermedades = pd.read_csv('enfermedades.csv')\n",
      "enfermedades.columns = ['DIAGNOST1', 'descripcion']\n",
      "siniestros_distrito = siniestros_distrito.order()\n",
      "siniestros_distrito = pd.DataFrame(siniestros_distrito)\n",
      "siniestros_distrito.reset_index(level=0, inplace=True)\n",
      "print siniestros_distrito.merge(enfermedades).tail(28)"
     ],
     "language": "python",
     "metadata": {},
     "outputs": [
      {
       "output_type": "stream",
       "stream": "stdout",
       "text": [
        "    DIAGNOST1  OCURRENCIAS                                        descripcion\n",
        "591       J01           72                                    SINUSITIS AGUDA\n",
        "592       A48           76  OTRAS ENFERMEDADES BACTERIANAS NO CLASIFICADAS...\n",
        "593       J31           76      RINITIS, RINOFARINGITIS Y FARINGITIS CRONICAS\n",
        "594       K02           76                                      CARIES DENTAL\n",
        "595       B82           81   PARASITOSIS INTESTINALES SIN OTRA ESPECIFICACION\n",
        "596       K21           83              ENFERMEDAD DE REFLUJO GASTROESOFAGICO\n",
        "597       N39           85              OTROS TRASTORNOS DEL SISTEMA URINARIO\n",
        "598       E14           87                  DIABETES MELLITUS NO ESPECIFICADA\n",
        "599       L70           88                                               ACNE\n",
        "600       L20           88                                 DERMATITIS ATOPICA\n",
        "601       Z01           88  OTROS EXAMENES ESPECIALES E INVESTIGACIONES DE...\n",
        "602       I10           89                   HIPERTENSION ESENCIAL (PRIMARIA)\n",
        "603       K29           98                             GASTRITIS Y DUODENITIS\n",
        "604       A04          121         OTRAS INFECCIONES INTESTINALES BACTERIANAS\n",
        "605       M54          125                                          DORSALGIA\n",
        "606       H10          134                                      CONJUNTIVITIS\n",
        "607       H52          160             TRASTORNOS DE REFRACCION Y ACOMODACION\n",
        "608       J02          177                                   FARINGITIS AGUDA\n",
        "609       A81          179  INFECCIONES DEL SISTEMA NERVIOSO CENTRAL POR V...\n",
        "610       E78          182  TRASTORNOS DEL METABOLISMO DE LAS LIPOPROTEINA...\n",
        "611       J30          182                      RINITIS VASOMOTORA Y ALERGICA\n",
        "612       A01          189                     FIEBRE TIFOIDEA Y PARATIFOIDEA\n",
        "613       A09          227  DIARREA Y GASTROENTERITIS DE PRESUNTO ORIGEN I...\n",
        "614       J00          268             RINOFARINGITIS AGUDA (RESFRIADO COMUN)\n",
        "615       Z71          312  PERSONAS QUE SOLICITAN SERVICIOS DE SALUD PARA...\n",
        "616       Z00          376  EXAMEN GENERAL E INVESTIGACION DE PERSONAS SIN...\n",
        "617       Z10          405  CONTROL GENERAL DE SALUD DE RUTINA DE SUBPOBLA...\n",
        "618       000         1636                                            NINGUNO\n"
       ]
      }
     ],
     "prompt_number": 18
    },
    {
     "cell_type": "code",
     "collapsed": false,
     "input": [],
     "language": "python",
     "metadata": {},
     "outputs": []
    }
   ],
   "metadata": {}
  }
 ]
}