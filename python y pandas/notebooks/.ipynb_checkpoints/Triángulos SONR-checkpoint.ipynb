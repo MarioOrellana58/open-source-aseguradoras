{
 "metadata": {
  "name": "",
  "signature": "sha256:9b529bb682362f66ba4f869cf301e14cbceef007d67f178561919dcc17f8e160"
 },
 "nbformat": 3,
 "nbformat_minor": 0,
 "worksheets": [
  {
   "cells": [
    {
     "cell_type": "heading",
     "level": 2,
     "metadata": {},
     "source": [
      "Anexo . Salida detallada del script Tri\u00e1ngulos SONR"
     ]
    },
    {
     "cell_type": "heading",
     "level": 4,
     "metadata": {},
     "source": [
      "Se carga el archivo con la informaci[on de emisi\u00f3n de p\u00f3lizas y montros de siniestros"
     ]
    },
    {
     "cell_type": "code",
     "collapsed": false,
     "input": [
      "# -*- coding: utf-8 -*-\n",
      "import pandas as pd\n",
      "import numpy as np\n",
      "\n",
      "csv_sonr = pd.read_csv('info_sonr.csv', dtype='float')\n",
      "print csv_sonr.head()\n",
      "print csv_sonr.tail()"
     ],
     "language": "python",
     "metadata": {},
     "outputs": [
      {
       "output_type": "stream",
       "stream": "stdout",
       "text": [
        "   anio_emision  prima_emitida  anio_siniestro  monto_siniestro\n",
        "0          2008   6.078667e+09             NaN              NaN\n",
        "1          2009   5.410572e+09             NaN              NaN\n",
        "2          2010   5.699797e+09             NaN              NaN\n",
        "3          2011   7.238161e+09             NaN              NaN\n",
        "4          2012   8.594971e+09             NaN              NaN\n",
        "    anio_emision  prima_emitida  anio_siniestro  monto_siniestro\n",
        "33          2013            NaN            2014     1.558775e+09\n",
        "34          2013            NaN            2015     5.828038e+07\n",
        "35          2014            NaN            2015     7.674148e+08\n",
        "36           NaN            NaN             NaN              NaN\n",
        "37           NaN            NaN             NaN              NaN\n"
       ]
      }
     ],
     "prompt_number": 19
    },
    {
     "cell_type": "heading",
     "level": 4,
     "metadata": {},
     "source": [
      "Se crea un vector que contiene la info el tri\u00e1ngulo SONR, otro con las simulaciones"
     ]
    },
    {
     "cell_type": "code",
     "collapsed": false,
     "input": [
      "anios_emision = csv_sonr['anio_emision'].unique()\n",
      "\n",
      "sonr = pd.DataFrame({'anio_emision': anios_emision, 'prima_emitida': None}, dtype='float')\n",
      "for anio_desarrollo in range(1,8):\n",
      "    sonr['s' + str(anio_desarrollo)] = None\n",
      "sonr = sonr.dropna(subset=['anio_emision'], how='all')\n",
      "sonr = sonr.set_index('anio_emision')\n",
      "\n",
      "print sonr"
     ],
     "language": "python",
     "metadata": {},
     "outputs": [
      {
       "output_type": "stream",
       "stream": "stdout",
       "text": [
        "              prima_emitida    s1    s2    s3    s4    s5    s6    s7\n",
        "anio_emision                                                         \n",
        "2008                    NaN  None  None  None  None  None  None  None\n",
        "2009                    NaN  None  None  None  None  None  None  None\n",
        "2010                    NaN  None  None  None  None  None  None  None\n",
        "2011                    NaN  None  None  None  None  None  None  None\n",
        "2012                    NaN  None  None  None  None  None  None  None\n",
        "2013                    NaN  None  None  None  None  None  None  None\n",
        "2014                    NaN  None  None  None  None  None  None  None\n",
        "2015                    NaN  None  None  None  None  None  None  None\n"
       ]
      }
     ],
     "prompt_number": 20
    },
    {
     "cell_type": "heading",
     "level": 4,
     "metadata": {},
     "source": [
      "Llena el tri\u00e1ngulo SONR"
     ]
    },
    {
     "cell_type": "code",
     "collapsed": false,
     "input": [
      "def llena_triangulo(csv_sonr):\n",
      "    anio_emision = csv_sonr['anio_emision']\n",
      "    if not pd.isnull(csv_sonr['anio_emision']) and not pd.isnull(csv_sonr['prima_emitida']):\n",
      "        sonr['prima_emitida'].loc[anio_emision] = csv_sonr['prima_emitida']\n",
      "    if not pd.isnull(csv_sonr['anio_siniestro']) and not pd.isnull(csv_sonr['monto_siniestro']):\n",
      "        anio_siniestro = csv_sonr['anio_siniestro']\n",
      "        dif_emision_sin = int(anio_siniestro - anio_emision)\n",
      "        indice_s = 's' + str(dif_emision_sin)\n",
      "        sonr[indice_s].loc[anio_emision] = csv_sonr['monto_siniestro']\n",
      "    return csv_sonr\n",
      "csv_sonr = csv_sonr.apply(llena_triangulo, axis=1)\n",
      "print sonr"
     ],
     "language": "python",
     "metadata": {},
     "outputs": [
      {
       "output_type": "stream",
       "stream": "stdout",
       "text": [
        "              prima_emitida            s1            s2            s3  \\\n",
        "anio_emision                                                            \n",
        "2008           6.078667e+09   4.52962e+08   2.94156e+08  6.947194e+07   \n",
        "2009           5.410572e+09  6.267366e+08  9.719363e+07   8.23192e+07   \n",
        "2010           5.699797e+09  5.002215e+08  1.641939e+08  7.193296e+07   \n",
        "2011           7.238161e+09  6.841263e+08  3.110523e+07  1.164185e+08   \n",
        "2012           8.594971e+09  4.991797e+08  1.898042e+08  9.665865e+07   \n",
        "2013           8.574785e+09  1.558775e+09  5.828038e+07          None   \n",
        "2014           9.030415e+09  7.674148e+08          None          None   \n",
        "2015           9.764295e+09          None          None          None   \n",
        "\n",
        "                        s4       s5       s6       s7  \n",
        "anio_emision                                           \n",
        "2008           2.00484e+07  3529410   727212  1227626  \n",
        "2009          2.635161e+07  4741216  5762570     None  \n",
        "2010          2.611259e+07  6530780     None     None  \n",
        "2011           3.69692e+07     None     None     None  \n",
        "2012                  None     None     None     None  \n",
        "2013                  None     None     None     None  \n",
        "2014                  None     None     None     None  \n",
        "2015                  None     None     None     None  \n"
       ]
      }
     ],
     "prompt_number": 21
    },
    {
     "cell_type": "heading",
     "level": 4,
     "metadata": {},
     "source": [
      "Se obtienen los factores de monto siniestro / prima emitida"
     ]
    },
    {
     "cell_type": "code",
     "collapsed": false,
     "input": [
      "import copy\n",
      "\n",
      "factores_sonr = copy.deepcopy(sonr)\n",
      "factores_sonr.reset_index(level=0, inplace=True)\n",
      "\n",
      "def llena_factores(factores_sonr):\n",
      "    for i in range(1, 8):\n",
      "        indice_s = 's' + str(i)\n",
      "        if not pd.isnull(factores_sonr[indice_s]):\n",
      "            anio_emision = factores_sonr['anio_emision']\n",
      "            factores_sonr[indice_s] = sonr[indice_s].loc[anio_emision] / sonr['prima_emitida'].loc[anio_emision]\n",
      "    return factores_sonr\n",
      "factores_sonr = factores_sonr.apply(llena_factores, axis=1)\n",
      "factores_sonr = factores_sonr.set_index('anio_emision')\n",
      "\n",
      "print factores_sonr"
     ],
     "language": "python",
     "metadata": {},
     "outputs": [
      {
       "output_type": "stream",
       "stream": "stdout",
       "text": [
        "              prima_emitida        s1        s2        s3        s4        s5  \\\n",
        "anio_emision                                                                    \n",
        "2008           6.078667e+09  0.074517  0.048392  0.011429  0.003298  0.000581   \n",
        "2009           5.410572e+09  0.115836  0.017964  0.015215  0.004870  0.000876   \n",
        "2010           5.699797e+09  0.087761  0.028807  0.012620  0.004581  0.001146   \n",
        "2011           7.238161e+09  0.094517  0.004297  0.016084  0.005108       NaN   \n",
        "2012           8.594971e+09  0.058078  0.022083  0.011246       NaN       NaN   \n",
        "2013           8.574785e+09  0.181786  0.006797       NaN       NaN       NaN   \n",
        "2014           9.030415e+09  0.084981       NaN       NaN       NaN       NaN   \n",
        "2015           9.764295e+09       NaN       NaN       NaN       NaN       NaN   \n",
        "\n",
        "                    s6        s7  \n",
        "anio_emision                      \n",
        "2008          0.000120  0.000202  \n",
        "2009          0.001065       NaN  \n",
        "2010               NaN       NaN  \n",
        "2011               NaN       NaN  \n",
        "2012               NaN       NaN  \n",
        "2013               NaN       NaN  \n",
        "2014               NaN       NaN  \n",
        "2015               NaN       NaN  \n"
       ]
      }
     ],
     "prompt_number": 22
    },
    {
     "cell_type": "heading",
     "level": 4,
     "metadata": {},
     "source": [
      "Se obtienen m\u00e1ximo, m\u00ednimo as\u00ed como m\u00e1ximo * 1.10 y m\u00ednimo * 0.9"
     ]
    },
    {
     "cell_type": "code",
     "collapsed": false,
     "input": [
      "factores = pd.DataFrame({'limite': ['max', 'min']})\n",
      "for anio_desarrollo in range(1,8):\n",
      "    factores['s' + str(anio_desarrollo)] = None\n",
      "factores = factores.set_index('limite')\n",
      "    \n",
      "for i in range(1, 8):\n",
      "    indice_s = 's' + str(i)\n",
      "    factores.loc['max'][indice_s] = factores_sonr[indice_s].max() * 1.1 \n",
      "    factores.loc['min'][indice_s] = factores_sonr[indice_s].min() * 0.9\n",
      "    \n",
      "print factores"
     ],
     "language": "python",
     "metadata": {},
     "outputs": [
      {
       "output_type": "stream",
       "stream": "stdout",
       "text": [
        "               s1           s2          s3           s4            s5  \\\n",
        "limite                                                                  \n",
        "max     0.1999645   0.05323068  0.01769239  0.005618294   0.001260371   \n",
        "min     0.0522703  0.003867654  0.01012136  0.002968342  0.0005225601   \n",
        "\n",
        "                  s6            s7  \n",
        "limite                              \n",
        "max      0.001171563  0.0002221521  \n",
        "min     0.0001076701  0.0001817608  \n"
       ]
      }
     ],
     "prompt_number": 23
    },
    {
     "cell_type": "heading",
     "level": 4,
     "metadata": {},
     "source": [
      "Se simulan los siniestros para las proyecciones (parte inferior del tri\u00e1ngulo)"
     ]
    },
    {
     "cell_type": "code",
     "collapsed": false,
     "input": [
      "import random\n",
      "\n",
      "sim_sonr = copy.deepcopy(sonr)\n",
      "sim_sonr.reset_index(level=0, inplace=True)\n",
      "\n",
      "def simula_rec(sim_sonr):\n",
      "    for i in range(1, 8):\n",
      "        indice_s = 's' + str(i)\n",
      "        if pd.isnull(sim_sonr[indice_s]):\n",
      "            anio_emision = sim_sonr['anio_emision']\n",
      "            max = factores.loc['max'][indice_s]\n",
      "            min = factores.loc['min'][indice_s]\n",
      "            prima_emitida = sonr['prima_emitida'].loc[anio_emision]\n",
      "            sim_sonr[indice_s] = random.uniform(min * prima_emitida, max * prima_emitida)\n",
      "        else:\n",
      "            sim_sonr[indice_s] = None\n",
      "    return sim_sonr\n",
      "    \n",
      "sim_sonr = sim_sonr.apply(simula_rec, axis=1)\n",
      "sim_sonr = sim_sonr.set_index('anio_emision')\n",
      "sonr.reset_index(level=0, inplace=True)\n",
      "\n",
      "print sim_sonr"
     ],
     "language": "python",
     "metadata": {},
     "outputs": [
      {
       "output_type": "stream",
       "stream": "stdout",
       "text": [
        "              prima_emitida            s1            s2            s3  \\\n",
        "anio_emision                                                            \n",
        "2008           6.078667e+09           NaN           NaN           NaN   \n",
        "2009           5.410572e+09           NaN           NaN           NaN   \n",
        "2010           5.699797e+09           NaN           NaN           NaN   \n",
        "2011           7.238161e+09           NaN           NaN           NaN   \n",
        "2012           8.594971e+09           NaN           NaN           NaN   \n",
        "2013           8.574785e+09           NaN           NaN  1.452981e+08   \n",
        "2014           9.030415e+09           NaN  1.549858e+08  1.585142e+08   \n",
        "2015           9.764295e+09  9.065913e+08  4.560271e+08  1.391311e+08   \n",
        "\n",
        "                           s4              s5              s6              s7  \n",
        "anio_emision                                                                   \n",
        "2008                      NaN             NaN             NaN             NaN  \n",
        "2009                      NaN             NaN             NaN  1142122.063053  \n",
        "2010                      NaN             NaN  5753240.560325  1262537.124110  \n",
        "2011                      NaN  9059581.490108  8396423.327735  1412868.965116  \n",
        "2012          28766379.846589  5175058.675773  6017045.796298  1709089.962885  \n",
        "2013          41166232.333807  9489310.121666  9576786.422911  1877794.106577  \n",
        "2014          34584375.105084  5725565.178900  1837024.088542  1690454.917017  \n",
        "2015          31108751.157900  7042352.301096  1706194.856831  1832902.627081  \n"
       ]
      }
     ],
     "prompt_number": 24
    },
    {
     "cell_type": "heading",
     "level": 4,
     "metadata": {},
     "source": [
      "Se agrupan los dos tri\u00e1ngulos"
     ]
    },
    {
     "cell_type": "code",
     "collapsed": false,
     "input": [
      "def combina(sonr):\n",
      "    for i in range(1, 8):\n",
      "        indice_s = 's' + str(i)\n",
      "        if pd.isnull(sonr[indice_s]):\n",
      "            anio_emision = sonr['anio_emision']\n",
      "            sonr[indice_s] = sim_sonr.loc[anio_emision][indice_s]\n",
      "    return sonr\n",
      "\n",
      "sonr = sonr.apply(combina ,axis=1)\n",
      "sonr = pd.concat([sonr, pd.DataFrame(sonr.ix[:, 's1':'s7'].sum(axis=1), columns=['rec_brutas'])],axis=1)\n",
      "\n",
      "print sonr\n",
      "print sonr['rec_brutas'].sum()"
     ],
     "language": "python",
     "metadata": {},
     "outputs": [
      {
       "output_type": "stream",
       "stream": "stdout",
       "text": [
        "   anio_emision  prima_emitida            s1            s2            s3  \\\n",
        "0          2008   6.078667e+09  4.529620e+08  2.941560e+08  6.947194e+07   \n",
        "1          2009   5.410572e+09  6.267366e+08  9.719363e+07  8.231920e+07   \n",
        "2          2010   5.699797e+09  5.002215e+08  1.641939e+08  7.193296e+07   \n",
        "3          2011   7.238161e+09  6.841263e+08  3.110523e+07  1.164185e+08   \n",
        "4          2012   8.594971e+09  4.991797e+08  1.898042e+08  9.665865e+07   \n",
        "5          2013   8.574785e+09  1.558775e+09  5.828038e+07  1.452981e+08   \n",
        "6          2014   9.030415e+09  7.674148e+08  1.549858e+08  1.585142e+08   \n",
        "7          2015   9.764295e+09  9.065913e+08  4.560271e+08  1.391311e+08   \n",
        "\n",
        "                s4              s5              s6              s7  \\\n",
        "0  20048402.270196  3529409.695119   727211.952443  1227625.778168   \n",
        "1  26351612.474517  4741215.817041  5762570.480311  1142122.063053   \n",
        "2  26112591.852336  6530779.543015  5753240.560325  1262537.124110   \n",
        "3  36969196.798987  9059581.490108  8396423.327735  1412868.965116   \n",
        "4  28766379.846589  5175058.675773  6017045.796298  1709089.962885   \n",
        "5  41166232.333807  9489310.121666  9576786.422911  1877794.106577   \n",
        "6  34584375.105084  5725565.178900  1837024.088542  1690454.917017   \n",
        "7  31108751.157900  7042352.301096  1706194.856831  1832902.627081   \n",
        "\n",
        "     rec_brutas  \n",
        "0  8.421226e+08  \n",
        "1  8.442470e+08  \n",
        "2  7.760076e+08  \n",
        "3  8.874881e+08  \n",
        "4  8.273101e+08  \n",
        "5  1.824464e+09  \n",
        "6  1.124752e+09  \n",
        "7  1.543440e+09  \n",
        "8669831214.31\n"
       ]
      }
     ],
     "prompt_number": 25
    },
    {
     "cell_type": "code",
     "collapsed": false,
     "input": [],
     "language": "python",
     "metadata": {},
     "outputs": [],
     "prompt_number": 10
    },
    {
     "cell_type": "code",
     "collapsed": false,
     "input": [],
     "language": "python",
     "metadata": {},
     "outputs": []
    }
   ],
   "metadata": {}
  }
 ]
}