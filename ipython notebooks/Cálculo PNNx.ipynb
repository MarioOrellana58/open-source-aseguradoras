{
 "metadata": {
  "name": "",
  "signature": "sha256:ba1b0312bcffba9e93fce4b6281e8dafd90ab5cb5b6b65279722b083b2ce7f51"
 },
 "nbformat": 3,
 "nbformat_minor": 0,
 "worksheets": [
  {
   "cells": [
    {
     "cell_type": "heading",
     "level": 2,
     "metadata": {},
     "source": [
      "Anexo . Salida detallada del script C\u00e1lculo PNNx"
     ]
    },
    {
     "cell_type": "heading",
     "level": 4,
     "metadata": {},
     "source": [
      "Define funci\u00f3n PNNx"
     ]
    },
    {
     "cell_type": "code",
     "collapsed": false,
     "input": [
      "# -*- coding: utf-8 -*-\n",
      "def pnnx(edad, sa, plazo, tabla_mortalidad):\n",
      "    x = edad\n",
      "    n = plazo\n",
      "    i = 0.05\n",
      "    suma_numerador = 0.0\n",
      "    suma_denominador = 0.0\n",
      "    for t in range(0, n):\n",
      "        vt_mas_1 = pow(1 + i, -(t + 1))\n",
      "        qx_mas_t = tabla_mortalidad[x + t]\n",
      "        if (t == 0):\n",
      "            tpx = 1\n",
      "        else:\n",
      "            tpx = 1 - qx_mas_t\n",
      "        suma_numerador += vt_mas_1 * tpx * qx_mas_t\n",
      "        vt = pow(1 + i, -t)\n",
      "        suma_denominador += vt * tpx\n",
      "    pnnx = (sa * suma_numerador) / suma_denominador\n",
      "    return pnnx"
     ],
     "language": "python",
     "metadata": {},
     "outputs": [],
     "prompt_number": 11
    },
    {
     "cell_type": "heading",
     "level": 4,
     "metadata": {},
     "source": [
      "Importa tabla de mortalidad y p\u00f3lizas de archivo de texto separado por comas"
     ]
    },
    {
     "cell_type": "code",
     "collapsed": false,
     "input": [
      "import csv\n",
      "import ast\n",
      "\n",
      "archivo_csv = open('tabla_mortalidad.csv')\n",
      "reader = csv.reader(archivo_csv)\n",
      "tabla_mortalidad = {}\n",
      "reader.next()\n",
      "for row in reader:\n",
      "    tabla_mortalidad[ast.literal_eval(row[0])] = ast.literal_eval(row[1])\n",
      "archivo_csv = open('polizas.csv')\n",
      "reader = csv.reader(archivo_csv)\n",
      "reader.next()"
     ],
     "language": "python",
     "metadata": {},
     "outputs": [
      {
       "metadata": {},
       "output_type": "pyout",
       "prompt_number": 12,
       "text": [
        "['num_poliza', 'plazo', 'edad', 'suma_asegurada']"
       ]
      }
     ],
     "prompt_number": 12
    },
    {
     "cell_type": "heading",
     "level": 4,
     "metadata": {},
     "source": [
      "Realiza c\u00e1lculo para cada p\u00f3liza"
     ]
    },
    {
     "cell_type": "code",
     "collapsed": false,
     "input": [
      "calculos_pnnx = {}\n",
      "for row in reader:\n",
      "    num_poliza = row[0]\n",
      "    plazo = int(row[1])\n",
      "    edad = ast.literal_eval(row[2])\n",
      "    sa = ast.literal_eval(row[3])\n",
      "    calculo_pnnx = pnnx(edad, sa, plazo, tabla_mortalidad)\n",
      "    calculos_pnnx[num_poliza] = calculo_pnnx\n",
      "    print 'P\u00f3liza n\u00famero ' + num_poliza + ', PNNx: ' + str(calculo_pnnx)"
     ],
     "language": "python",
     "metadata": {},
     "outputs": [
      {
       "output_type": "stream",
       "stream": "stdout",
       "text": [
        "P\u00f3liza n\u00famero 1, PNNx: 188.328827252\n",
        "P\u00f3liza n\u00famero 2, PNNx: 29.1576186072\n",
        "P\u00f3liza n\u00famero 3, PNNx: 384.273625141\n",
        "P\u00f3liza n\u00famero 4, PNNx: 111.660546511\n",
        "P\u00f3liza n\u00famero 5, PNNx: 19.651332381\n",
        "P\u00f3liza n\u00famero 6, PNNx: 96.0648313239\n",
        "P\u00f3liza n\u00famero 7, PNNx: 605.277543636\n",
        "P\u00f3liza n\u00famero 8, PNNx: 51.6631883914\n",
        "P\u00f3liza n\u00famero 9, PNNx: 55.9393211435\n",
        "P\u00f3liza n\u00famero 10, PNNx: 21.287125349\n"
       ]
      }
     ],
     "prompt_number": 13
    },
    {
     "cell_type": "code",
     "collapsed": false,
     "input": [],
     "language": "python",
     "metadata": {},
     "outputs": []
    }
   ],
   "metadata": {}
  }
 ]
}