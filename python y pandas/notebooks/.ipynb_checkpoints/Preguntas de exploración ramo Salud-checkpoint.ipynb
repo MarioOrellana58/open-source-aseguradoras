{
 "metadata": {
  "name": "",
  "signature": "sha256:ae04ec7557d81007d46041a272e3f432d982c59026ca37b321be883d66cddf4a"
 },
 "nbformat": 3,
 "nbformat_minor": 0,
 "worksheets": []
}