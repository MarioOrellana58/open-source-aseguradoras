{
 "metadata": {
  "name": "",
  "signature": "sha256:a6132fdf7494ad015a5f1077815052df23c5145a13a3f1ce4151718db6805adb"
 },
 "nbformat": 3,
 "nbformat_minor": 0,
 "worksheets": [
  {
   "cells": [
    {
     "cell_type": "heading",
     "level": 2,
     "metadata": {},
     "source": [
      "Anexo . Salida detallada del script Preguntas de exploraci\u00f3n para el ramo Salud"
     ]
    },
    {
     "cell_type": "heading",
     "level": 4,
     "metadata": {},
     "source": [
      "Se carga el archivo de texto de la CNSF, se muestran los t\u00edtulos de las columas (161) y el numero de registros (50350)"
     ]
    },
    {
     "cell_type": "code",
     "collapsed": false,
     "input": [
      "# -*- coding: utf-8 -*-\n",
      "import pandas as pd\n",
      "import numpy as np\n",
      "\n",
      "siniestros_original = pd.read_csv('Salud2012.csv')\n",
      "siniestros = pd.DataFrame()\n",
      "\n",
      "siniestros_original.keys()"
     ],
     "language": "python",
     "metadata": {},
     "outputs": [
      {
       "metadata": {},
       "output_type": "pyout",
       "prompt_number": 2,
       "text": [
        "Index([u'EDAD', u'SEXO', u'GPO_FAM', u'LUG_RESIDE', u'TIP_SEGURO',\n",
        "       u'DIAGNOST1', u'CNT', u'PRIMA_EMI', u'DIAS_ES_H1', u'DIAS_ES_H2', \n",
        "       ...\n",
        "       u'MCON_PRE', u'MCON_PUE', u'MPLA_FAM', u'MCONS_NS', u'MCONS_VAC',\n",
        "       u'M_OTCONS_P', u'MEX_LAB_P', u'MEX_IMG_P', u'M_OTCONP_B', u'M_ASB'],\n",
        "      dtype='object', length=161)"
       ]
      }
     ],
     "prompt_number": 2
    },
    {
     "cell_type": "heading",
     "level": 4,
     "metadata": {},
     "source": [
      "Se crea una copia con las columnas que se utilizan. Se crea una nueva columna con el total de d\u00edas de estancia y del monto de medicamentos porque est\u00e1n dispersos en diversas columnas"
     ]
    },
    {
     "cell_type": "code",
     "collapsed": false,
     "input": [
      "siniestros['EDAD'] = siniestros_original['EDAD']\n",
      "siniestros['SEXO'] = siniestros_original['SEXO']\n",
      "siniestros['DIAGNOST1'] = siniestros_original['DIAGNOST1']\n",
      "for i in range(0,9):\n",
      "    siniestros['MMED_D' + str(i)] = siniestros_original['MMED_D' + str(i)]\n",
      "siniestros['DIAS_ES_H1'] = siniestros_original['DIAS_ES_H1']\n",
      "siniestros['DIAS_ES_H2'] = siniestros_original['DIAS_ES_H2']\n",
      "siniestros['DIAS_ES_H3'] = siniestros_original['DIAS_ES_H3']\n",
      "siniestros['LUG_RESIDE'] = siniestros_original['LUG_RESIDE']\n",
      "siniestros['TOTAL_MM'] = 0\n",
      "for i in range(0,9):\n",
      "    siniestros['TOTAL_MM'] = siniestros['TOTAL_MM'] + siniestros['MMED_D' + str(i)]\n",
      "siniestros['TOTAL_ES_H'] = siniestros['DIAS_ES_H1']\n",
      "siniestros['TOTAL_ES_H'] = siniestros['TOTAL_ES_H'] + siniestros['DIAS_ES_H2']\n",
      "siniestros['TOTAL_ES_H'] = siniestros['TOTAL_ES_H'] +siniestros['DIAS_ES_H3']\n",
      "\n",
      "print siniestros.describe()"
     ],
     "language": "python",
     "metadata": {},
     "outputs": [
      {
       "output_type": "stream",
       "stream": "stdout",
       "text": [
        "               EDAD       MMED_D0        MMED_D1       MMED_D2       MMED_D3  \\\n",
        "count  50350.000000  50350.000000   50350.000000  50350.000000  50350.000000   \n",
        "mean      33.477577      4.697883     252.953828    174.719678    121.779631   \n",
        "std       19.924554     94.462857    1891.225356    851.050677    730.223733   \n",
        "min        0.000000      0.000000       0.000000      0.000000      0.000000   \n",
        "25%       17.000000      0.000000       0.000000      0.000000      0.000000   \n",
        "50%       33.000000      0.000000       0.000000      0.000000      0.000000   \n",
        "75%       48.000000      0.000000       0.000000      0.000000      0.000000   \n",
        "max      106.000000   6888.480000  275301.670000  61276.620000  69221.210000   \n",
        "\n",
        "            MMED_D4       MMED_D5       MMED_D6       MMED_D7       MMED_D8  \\\n",
        "count  50350.000000  50350.000000  50350.000000  50350.000000  50350.000000   \n",
        "mean     100.934102     55.609228     38.956599     26.213241     17.374005   \n",
        "std      735.307161    445.039406    344.738993    299.251357    210.952217   \n",
        "min        0.000000      0.000000      0.000000      0.000000      0.000000   \n",
        "25%        0.000000      0.000000      0.000000      0.000000      0.000000   \n",
        "50%        0.000000      0.000000      0.000000      0.000000      0.000000   \n",
        "75%        0.000000      0.000000      0.000000      0.000000      0.000000   \n",
        "max    81233.100000  27657.260000  15686.850000  18399.630000   9988.840000   \n",
        "\n",
        "         DIAS_ES_H1    DIAS_ES_H2    DIAS_ES_H3    LUG_RESIDE       TOTAL_MM  \\\n",
        "count  50350.000000  50350.000000  50350.000000  50350.000000   50350.000000   \n",
        "mean       0.124687      0.047507      0.022622     14.965005     793.238195   \n",
        "std        0.828632      0.567590      0.290372      8.752486    3321.556969   \n",
        "min        0.000000      0.000000      0.000000      1.000000       0.000000   \n",
        "25%        0.000000      0.000000      0.000000      9.000000       0.000000   \n",
        "50%        0.000000      0.000000      0.000000     14.000000       0.000000   \n",
        "75%        0.000000      0.000000      0.000000     24.000000     159.935000   \n",
        "max       65.000000     61.000000     36.000000     34.000000  275301.670000   \n",
        "\n",
        "         TOTAL_ES_H  \n",
        "count  50350.000000  \n",
        "mean       0.194816  \n",
        "std        1.197046  \n",
        "min        0.000000  \n",
        "25%        0.000000  \n",
        "50%        0.000000  \n",
        "75%        0.000000  \n",
        "max       70.000000  \n"
       ]
      }
     ],
     "prompt_number": 3
    },
    {
     "cell_type": "heading",
     "level": 4,
     "metadata": {},
     "source": [
      "Se crean dos nuevos objetos DataFrame filtrados por sexo, se obtiene el numero de elementos para de ah\u00edi obtener los porcentajes"
     ]
    },
    {
     "cell_type": "code",
     "collapsed": false,
     "input": [
      "siniestros_m = siniestros[siniestros['SEXO']=='M']\n",
      "siniestros_f = siniestros[siniestros['SEXO']=='F']\n",
      "print len(siniestros_m) / float(len(siniestros)) * 100\n",
      "print len(siniestros_f) / float(len(siniestros)) * 100"
     ],
     "language": "python",
     "metadata": {},
     "outputs": [
      {
       "output_type": "stream",
       "stream": "stdout",
       "text": [
        "44.2482621648\n",
        "55.7517378352\n"
       ]
      }
     ],
     "prompt_number": 4
    },
    {
     "cell_type": "heading",
     "level": 4,
     "metadata": {},
     "source": [
      "Se filtran los reclamos del Distrito Federal, se cuentan las ocurrencias"
     ]
    },
    {
     "cell_type": "code",
     "collapsed": false,
     "input": [
      "siniestros_distrito = siniestros[siniestros['LUG_RESIDE'] == 9]\n",
      "siniestros_distrito['OCURRENCIAS'] = None\n",
      "siniestros_distrito = siniestros_distrito.groupby('DIAGNOST1').count()['OCURRENCIAS']\n",
      "print siniestros_distrito.order().tail()"
     ],
     "language": "python",
     "metadata": {},
     "outputs": [
      {
       "output_type": "stream",
       "stream": "stdout",
       "text": [
        "DIAGNOST1\n",
        "J00           268\n",
        "Z71           312\n",
        "Z00           376\n",
        "Z10           405\n",
        "000          1636\n",
        "Name: OCURRENCIAS, dtype: int64\n"
       ]
      }
     ],
     "prompt_number": 17
    },
    {
     "cell_type": "heading",
     "level": 5,
     "metadata": {},
     "source": [
      "Se realiza un JOIN con las descripciones de las enfermedades para un an\u00e1lisis mas sencillo"
     ]
    },
    {
     "cell_type": "code",
     "collapsed": false,
     "input": [
      "enfermedades = pd.read_csv('enfermedades.csv')\n",
      "enfermedades.columns = ['DIAGNOST1', 'descripcion']\n",
      "siniestros_distrito = siniestros_distrito.order()\n",
      "siniestros_distrito = pd.DataFrame(siniestros_distrito)\n",
      "siniestros_distrito.reset_index(level=0, inplace=True)\n",
      "print siniestros_distrito.merge(enfermedades).tail(28)"
     ],
     "language": "python",
     "metadata": {},
     "outputs": [
      {
       "output_type": "stream",
       "stream": "stdout",
       "text": [
        "    DIAGNOST1  OCURRENCIAS                                        descripcion\n",
        "591       J01           72                                    SINUSITIS AGUDA\n",
        "592       A48           76  OTRAS ENFERMEDADES BACTERIANAS NO CLASIFICADAS...\n",
        "593       J31           76      RINITIS, RINOFARINGITIS Y FARINGITIS CRONICAS\n",
        "594       K02           76                                      CARIES DENTAL\n",
        "595       B82           81   PARASITOSIS INTESTINALES SIN OTRA ESPECIFICACION\n",
        "596       K21           83              ENFERMEDAD DE REFLUJO GASTROESOFAGICO\n",
        "597       N39           85              OTROS TRASTORNOS DEL SISTEMA URINARIO\n",
        "598       E14           87                  DIABETES MELLITUS NO ESPECIFICADA\n",
        "599       L70           88                                               ACNE\n",
        "600       L20           88                                 DERMATITIS ATOPICA\n",
        "601       Z01           88  OTROS EXAMENES ESPECIALES E INVESTIGACIONES DE...\n",
        "602       I10           89                   HIPERTENSION ESENCIAL (PRIMARIA)\n",
        "603       K29           98                             GASTRITIS Y DUODENITIS\n",
        "604       A04          121         OTRAS INFECCIONES INTESTINALES BACTERIANAS\n",
        "605       M54          125                                          DORSALGIA\n",
        "606       H10          134                                      CONJUNTIVITIS\n",
        "607       H52          160             TRASTORNOS DE REFRACCION Y ACOMODACION\n",
        "608       J02          177                                   FARINGITIS AGUDA\n",
        "609       A81          179  INFECCIONES DEL SISTEMA NERVIOSO CENTRAL POR V...\n",
        "610       E78          182  TRASTORNOS DEL METABOLISMO DE LAS LIPOPROTEINA...\n",
        "611       J30          182                      RINITIS VASOMOTORA Y ALERGICA\n",
        "612       A01          189                     FIEBRE TIFOIDEA Y PARATIFOIDEA\n",
        "613       A09          227  DIARREA Y GASTROENTERITIS DE PRESUNTO ORIGEN I...\n",
        "614       J00          268             RINOFARINGITIS AGUDA (RESFRIADO COMUN)\n",
        "615       Z71          312  PERSONAS QUE SOLICITAN SERVICIOS DE SALUD PARA...\n",
        "616       Z00          376  EXAMEN GENERAL E INVESTIGACION DE PERSONAS SIN...\n",
        "617       Z10          405  CONTROL GENERAL DE SALUD DE RUTINA DE SUBPOBLA...\n",
        "618       000         1636                                            NINGUNO\n"
       ]
      }
     ],
     "prompt_number": 18
    },
    {
     "cell_type": "code",
     "collapsed": false,
     "input": [],
     "language": "python",
     "metadata": {},
     "outputs": []
    }
   ],
   "metadata": {}
  }
 ]
}